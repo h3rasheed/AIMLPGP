{
 "cells": [
  {
   "cell_type": "markdown",
   "metadata": {},
   "source": [
    "### Context -\n",
    "\n",
    "DRS bank is facing challenging times. Their NPAs (Non-Performing Assets) has been on a rise recently and a large part of these are due to the loans given to individual customers(borrowers). Chief Risk Officer of the bank decides to put in a scientifically robust framework for approval of loans to individual customers to minimize the risk of loans converting into NPAs and initiates a project for the data science team at the bank. You, as a senior member of the team, are assigned this project.\n",
    "\n",
    "### Objective -\n",
    "To identify the criteria to approve loans for an individual customer such that the likelihood of the loan delinquency is minimized\n",
    "\n",
    "### Key questions to be answered –\n",
    "What are the factors that drive the behavior of loan delinquency?\n",
    "\n",
    "#### Dataset:\n",
    "* ID: Customer ID\n",
    "* isDelinquent : indicates whether the customer is delinquent or not (1 => Yes, 0 => No)\n",
    "* term: Loan term in months\n",
    "* gender: Gender of the borrower\n",
    "* age: Age of the borrower\n",
    "* purpose: Purpose of Loan\n",
    "* home_ownership: Status of borrower's home\n",
    "* FICO: FICO (i.e. the bureau score) of the borrower\n",
    "\n",
    "### Domain Information –\n",
    "Transactor – A person who pays his due amount balance full and on time.\n",
    "Revolver – A person who pays the minimum due amount but keeps revolving his balance and does not pay the full amount.\n",
    "Delinquent - Delinquency means that you are behind on payments, a person who fails to pay even the minimum due amount.\n",
    "Defaulter – Once you are delinquent for a certain period your lender will declare you to be in the default stage.\n",
    "Risk Analytics – A wide domain in the financial and banking industry, basically analyzing the risk of the customer.\n"
   ]
  },
  {
   "cell_type": "markdown",
   "metadata": {
    "colab_type": "text",
    "id": "vL8wmJEThU1y"
   },
   "source": [
    "### Import the necessary packages"
   ]
  },
  {
   "cell_type": "code",
   "execution_count": 1,
   "metadata": {},
   "outputs": [],
   "source": [
    "import numpy as np\n",
    "import pandas as pd\n",
    "import matplotlib.pyplot as plt\n",
    "import seaborn as sns\n",
    "from sklearn.model_selection import train_test_split, StratifiedKFold, cross_val_score\n",
    "from sklearn.metrics import accuracy_score,precision_score,recall_score\n",
    "from sklearn.model_selection import GridSearchCV\n",
    "from sklearn import metrics\n",
    "import scipy.stats as stats\n",
    "from sklearn.linear_model import LogisticRegression\n",
    "import warnings\n",
    "warnings.filterwarnings('ignore')"
   ]
  },
  {
   "cell_type": "markdown",
   "metadata": {
    "colab_type": "text",
    "id": "a9ZMNfUNhU14"
   },
   "source": [
    "### Read the dataset"
   ]
  },
  {
   "cell_type": "code",
   "execution_count": 2,
   "metadata": {},
   "outputs": [],
   "source": [
    "data=pd.read_csv(\"Loan_Delinquent_Dataset.csv\")"
   ]
  },
  {
   "cell_type": "code",
   "execution_count": 3,
   "metadata": {},
   "outputs": [],
   "source": [
    "# copying data to another varaible to avoid any changes to original data\n",
    "loan=data.copy()"
   ]
  },
  {
   "cell_type": "markdown",
   "metadata": {},
   "source": [
    "### View the first and last 5 rows of the dataset."
   ]
  },
  {
   "cell_type": "code",
   "execution_count": 4,
   "metadata": {
    "scrolled": true
   },
   "outputs": [
    {
     "data": {
      "text/html": [
       "<div>\n",
       "<style scoped>\n",
       "    .dataframe tbody tr th:only-of-type {\n",
       "        vertical-align: middle;\n",
       "    }\n",
       "\n",
       "    .dataframe tbody tr th {\n",
       "        vertical-align: top;\n",
       "    }\n",
       "\n",
       "    .dataframe thead th {\n",
       "        text-align: right;\n",
       "    }\n",
       "</style>\n",
       "<table border=\"1\" class=\"dataframe\">\n",
       "  <thead>\n",
       "    <tr style=\"text-align: right;\">\n",
       "      <th></th>\n",
       "      <th>ID</th>\n",
       "      <th>isDelinquent</th>\n",
       "      <th>term</th>\n",
       "      <th>gender</th>\n",
       "      <th>purpose</th>\n",
       "      <th>home_ownership</th>\n",
       "      <th>age</th>\n",
       "      <th>FICO</th>\n",
       "    </tr>\n",
       "  </thead>\n",
       "  <tbody>\n",
       "    <tr>\n",
       "      <th>0</th>\n",
       "      <td>1</td>\n",
       "      <td>1</td>\n",
       "      <td>36 months</td>\n",
       "      <td>Female</td>\n",
       "      <td>House</td>\n",
       "      <td>Mortgage</td>\n",
       "      <td>&gt;25</td>\n",
       "      <td>300-500</td>\n",
       "    </tr>\n",
       "    <tr>\n",
       "      <th>1</th>\n",
       "      <td>2</td>\n",
       "      <td>0</td>\n",
       "      <td>36 months</td>\n",
       "      <td>Female</td>\n",
       "      <td>House</td>\n",
       "      <td>Rent</td>\n",
       "      <td>20-25</td>\n",
       "      <td>&gt;500</td>\n",
       "    </tr>\n",
       "    <tr>\n",
       "      <th>2</th>\n",
       "      <td>3</td>\n",
       "      <td>1</td>\n",
       "      <td>36 months</td>\n",
       "      <td>Female</td>\n",
       "      <td>House</td>\n",
       "      <td>Rent</td>\n",
       "      <td>&gt;25</td>\n",
       "      <td>300-500</td>\n",
       "    </tr>\n",
       "    <tr>\n",
       "      <th>3</th>\n",
       "      <td>4</td>\n",
       "      <td>1</td>\n",
       "      <td>36 months</td>\n",
       "      <td>Female</td>\n",
       "      <td>Car</td>\n",
       "      <td>Mortgage</td>\n",
       "      <td>&gt;25</td>\n",
       "      <td>300-500</td>\n",
       "    </tr>\n",
       "    <tr>\n",
       "      <th>4</th>\n",
       "      <td>5</td>\n",
       "      <td>1</td>\n",
       "      <td>36 months</td>\n",
       "      <td>Female</td>\n",
       "      <td>House</td>\n",
       "      <td>Rent</td>\n",
       "      <td>&gt;25</td>\n",
       "      <td>300-500</td>\n",
       "    </tr>\n",
       "  </tbody>\n",
       "</table>\n",
       "</div>"
      ],
      "text/plain": [
       "   ID  isDelinquent       term  gender purpose home_ownership    age     FICO\n",
       "0   1             1  36 months  Female   House       Mortgage    >25  300-500\n",
       "1   2             0  36 months  Female   House           Rent  20-25     >500\n",
       "2   3             1  36 months  Female   House           Rent    >25  300-500\n",
       "3   4             1  36 months  Female     Car       Mortgage    >25  300-500\n",
       "4   5             1  36 months  Female   House           Rent    >25  300-500"
      ]
     },
     "execution_count": 4,
     "metadata": {},
     "output_type": "execute_result"
    }
   ],
   "source": [
    "loan.head()"
   ]
  },
  {
   "cell_type": "code",
   "execution_count": 5,
   "metadata": {},
   "outputs": [
    {
     "data": {
      "text/html": [
       "<div>\n",
       "<style scoped>\n",
       "    .dataframe tbody tr th:only-of-type {\n",
       "        vertical-align: middle;\n",
       "    }\n",
       "\n",
       "    .dataframe tbody tr th {\n",
       "        vertical-align: top;\n",
       "    }\n",
       "\n",
       "    .dataframe thead th {\n",
       "        text-align: right;\n",
       "    }\n",
       "</style>\n",
       "<table border=\"1\" class=\"dataframe\">\n",
       "  <thead>\n",
       "    <tr style=\"text-align: right;\">\n",
       "      <th></th>\n",
       "      <th>ID</th>\n",
       "      <th>isDelinquent</th>\n",
       "      <th>term</th>\n",
       "      <th>gender</th>\n",
       "      <th>purpose</th>\n",
       "      <th>home_ownership</th>\n",
       "      <th>age</th>\n",
       "      <th>FICO</th>\n",
       "    </tr>\n",
       "  </thead>\n",
       "  <tbody>\n",
       "    <tr>\n",
       "      <th>11543</th>\n",
       "      <td>11544</td>\n",
       "      <td>0</td>\n",
       "      <td>60 months</td>\n",
       "      <td>Male</td>\n",
       "      <td>other</td>\n",
       "      <td>Mortgage</td>\n",
       "      <td>&gt;25</td>\n",
       "      <td>300-500</td>\n",
       "    </tr>\n",
       "    <tr>\n",
       "      <th>11544</th>\n",
       "      <td>11545</td>\n",
       "      <td>1</td>\n",
       "      <td>36 months</td>\n",
       "      <td>Male</td>\n",
       "      <td>House</td>\n",
       "      <td>Rent</td>\n",
       "      <td>20-25</td>\n",
       "      <td>300-500</td>\n",
       "    </tr>\n",
       "    <tr>\n",
       "      <th>11545</th>\n",
       "      <td>11546</td>\n",
       "      <td>0</td>\n",
       "      <td>36 months</td>\n",
       "      <td>Female</td>\n",
       "      <td>Personal</td>\n",
       "      <td>Mortgage</td>\n",
       "      <td>20-25</td>\n",
       "      <td>&gt;500</td>\n",
       "    </tr>\n",
       "    <tr>\n",
       "      <th>11546</th>\n",
       "      <td>11547</td>\n",
       "      <td>1</td>\n",
       "      <td>36 months</td>\n",
       "      <td>Female</td>\n",
       "      <td>House</td>\n",
       "      <td>Rent</td>\n",
       "      <td>20-25</td>\n",
       "      <td>300-500</td>\n",
       "    </tr>\n",
       "    <tr>\n",
       "      <th>11547</th>\n",
       "      <td>11548</td>\n",
       "      <td>1</td>\n",
       "      <td>36 months</td>\n",
       "      <td>Male</td>\n",
       "      <td>Personal</td>\n",
       "      <td>Mortgage</td>\n",
       "      <td>20-25</td>\n",
       "      <td>300-500</td>\n",
       "    </tr>\n",
       "  </tbody>\n",
       "</table>\n",
       "</div>"
      ],
      "text/plain": [
       "          ID  isDelinquent       term  gender   purpose home_ownership    age  \\\n",
       "11543  11544             0  60 months    Male     other       Mortgage    >25   \n",
       "11544  11545             1  36 months    Male     House           Rent  20-25   \n",
       "11545  11546             0  36 months  Female  Personal       Mortgage  20-25   \n",
       "11546  11547             1  36 months  Female     House           Rent  20-25   \n",
       "11547  11548             1  36 months    Male  Personal       Mortgage  20-25   \n",
       "\n",
       "          FICO  \n",
       "11543  300-500  \n",
       "11544  300-500  \n",
       "11545     >500  \n",
       "11546  300-500  \n",
       "11547  300-500  "
      ]
     },
     "execution_count": 5,
     "metadata": {},
     "output_type": "execute_result"
    }
   ],
   "source": [
    "loan.tail()"
   ]
  },
  {
   "cell_type": "markdown",
   "metadata": {
    "colab_type": "text",
    "id": "dEuSu6e4hU2e"
   },
   "source": [
    "### Understand the shape of the dataset."
   ]
  },
  {
   "cell_type": "code",
   "execution_count": 6,
   "metadata": {},
   "outputs": [
    {
     "data": {
      "text/plain": [
       "(11548, 8)"
      ]
     },
     "execution_count": 6,
     "metadata": {},
     "output_type": "execute_result"
    }
   ],
   "source": [
    "loan.shape"
   ]
  },
  {
   "cell_type": "markdown",
   "metadata": {},
   "source": [
    "* The dataset has 11548 rows and 8 columns of data"
   ]
  },
  {
   "cell_type": "markdown",
   "metadata": {
    "colab_type": "text",
    "id": "mwAu-vEwhU2m"
   },
   "source": [
    "### Check the data types of the columns for the dataset."
   ]
  },
  {
   "cell_type": "code",
   "execution_count": 7,
   "metadata": {},
   "outputs": [
    {
     "name": "stdout",
     "output_type": "stream",
     "text": [
      "<class 'pandas.core.frame.DataFrame'>\n",
      "RangeIndex: 11548 entries, 0 to 11547\n",
      "Data columns (total 8 columns):\n",
      " #   Column          Non-Null Count  Dtype \n",
      "---  ------          --------------  ----- \n",
      " 0   ID              11548 non-null  int64 \n",
      " 1   isDelinquent    11548 non-null  int64 \n",
      " 2   term            11548 non-null  object\n",
      " 3   gender          11548 non-null  object\n",
      " 4   purpose         11548 non-null  object\n",
      " 5   home_ownership  11548 non-null  object\n",
      " 6   age             11548 non-null  object\n",
      " 7   FICO            11548 non-null  object\n",
      "dtypes: int64(2), object(6)\n",
      "memory usage: 721.9+ KB\n"
     ]
    }
   ],
   "source": [
    "loan.info()"
   ]
  },
  {
   "cell_type": "markdown",
   "metadata": {
    "colab_type": "text",
    "id": "X2X_FLxThU2q"
   },
   "source": [
    "## Fixing the data types\n",
    "\n",
    "* term,gender,purpose,home_ownership,age anf FICO are of object type, we can change them to categories.\n",
    "\n",
    "`converting \"objects\" to \"category\" reduces the data space required to store the dataframe`"
   ]
  },
  {
   "cell_type": "code",
   "execution_count": 8,
   "metadata": {},
   "outputs": [],
   "source": [
    "loan[\"term\"] = loan[\"term\"].astype(\"category\")\n",
    "loan[\"gender\"] = loan[\"gender\"].astype(\"category\")\n",
    "loan[\"purpose\"] = loan[\"purpose\"].astype(\"category\")\n",
    "loan[\"home_ownership\"] = loan[\"home_ownership\"].astype(\"category\")\n",
    "loan[\"age\"] = loan[\"age\"].astype(\"category\")\n",
    "loan[\"FICO\"] = loan[\"FICO\"].astype(\"category\")"
   ]
  },
  {
   "cell_type": "code",
   "execution_count": 9,
   "metadata": {},
   "outputs": [
    {
     "name": "stdout",
     "output_type": "stream",
     "text": [
      "<class 'pandas.core.frame.DataFrame'>\n",
      "RangeIndex: 11548 entries, 0 to 11547\n",
      "Data columns (total 8 columns):\n",
      " #   Column          Non-Null Count  Dtype   \n",
      "---  ------          --------------  -----   \n",
      " 0   ID              11548 non-null  int64   \n",
      " 1   isDelinquent    11548 non-null  int64   \n",
      " 2   term            11548 non-null  category\n",
      " 3   gender          11548 non-null  category\n",
      " 4   purpose         11548 non-null  category\n",
      " 5   home_ownership  11548 non-null  category\n",
      " 6   age             11548 non-null  category\n",
      " 7   FICO            11548 non-null  category\n",
      "dtypes: category(6), int64(2)\n",
      "memory usage: 249.1 KB\n"
     ]
    }
   ],
   "source": [
    "loan.info()"
   ]
  },
  {
   "cell_type": "markdown",
   "metadata": {},
   "source": [
    "`we can see that the memory usage has decreased from 721.9KB to 249.1KB`"
   ]
  },
  {
   "cell_type": "markdown",
   "metadata": {},
   "source": [
    "**Observations -**\n",
    "* isDelinquent is the dependent variable - type integer.\n",
    "* isDelinquent is a class variable and should be converted to a categorical variable for further analysis.\n",
    "* All the dependent variables except for ID are categorical.\n"
   ]
  },
  {
   "cell_type": "code",
   "execution_count": 10,
   "metadata": {},
   "outputs": [],
   "source": [
    "loan[\"isDelinquent\"] = loan[\"isDelinquent\"].astype(\"category\")"
   ]
  },
  {
   "cell_type": "markdown",
   "metadata": {
    "colab_type": "text",
    "id": "7E1orwlJhU20"
   },
   "source": [
    "### Summary of the dataset."
   ]
  },
  {
   "cell_type": "code",
   "execution_count": 11,
   "metadata": {},
   "outputs": [
    {
     "data": {
      "text/html": [
       "<div>\n",
       "<style scoped>\n",
       "    .dataframe tbody tr th:only-of-type {\n",
       "        vertical-align: middle;\n",
       "    }\n",
       "\n",
       "    .dataframe tbody tr th {\n",
       "        vertical-align: top;\n",
       "    }\n",
       "\n",
       "    .dataframe thead th {\n",
       "        text-align: right;\n",
       "    }\n",
       "</style>\n",
       "<table border=\"1\" class=\"dataframe\">\n",
       "  <thead>\n",
       "    <tr style=\"text-align: right;\">\n",
       "      <th></th>\n",
       "      <th>ID</th>\n",
       "      <th>isDelinquent</th>\n",
       "      <th>term</th>\n",
       "      <th>gender</th>\n",
       "      <th>purpose</th>\n",
       "      <th>home_ownership</th>\n",
       "      <th>age</th>\n",
       "      <th>FICO</th>\n",
       "    </tr>\n",
       "  </thead>\n",
       "  <tbody>\n",
       "    <tr>\n",
       "      <th>count</th>\n",
       "      <td>11548.000000</td>\n",
       "      <td>11548.0</td>\n",
       "      <td>11548</td>\n",
       "      <td>11548</td>\n",
       "      <td>11548</td>\n",
       "      <td>11548</td>\n",
       "      <td>11548</td>\n",
       "      <td>11548</td>\n",
       "    </tr>\n",
       "    <tr>\n",
       "      <th>unique</th>\n",
       "      <td>NaN</td>\n",
       "      <td>2.0</td>\n",
       "      <td>2</td>\n",
       "      <td>2</td>\n",
       "      <td>7</td>\n",
       "      <td>3</td>\n",
       "      <td>2</td>\n",
       "      <td>2</td>\n",
       "    </tr>\n",
       "    <tr>\n",
       "      <th>top</th>\n",
       "      <td>NaN</td>\n",
       "      <td>1.0</td>\n",
       "      <td>36 months</td>\n",
       "      <td>Male</td>\n",
       "      <td>House</td>\n",
       "      <td>Mortgage</td>\n",
       "      <td>20-25</td>\n",
       "      <td>300-500</td>\n",
       "    </tr>\n",
       "    <tr>\n",
       "      <th>freq</th>\n",
       "      <td>NaN</td>\n",
       "      <td>7721.0</td>\n",
       "      <td>10589</td>\n",
       "      <td>6555</td>\n",
       "      <td>6892</td>\n",
       "      <td>5461</td>\n",
       "      <td>5888</td>\n",
       "      <td>6370</td>\n",
       "    </tr>\n",
       "    <tr>\n",
       "      <th>mean</th>\n",
       "      <td>5774.500000</td>\n",
       "      <td>NaN</td>\n",
       "      <td>NaN</td>\n",
       "      <td>NaN</td>\n",
       "      <td>NaN</td>\n",
       "      <td>NaN</td>\n",
       "      <td>NaN</td>\n",
       "      <td>NaN</td>\n",
       "    </tr>\n",
       "    <tr>\n",
       "      <th>std</th>\n",
       "      <td>3333.764789</td>\n",
       "      <td>NaN</td>\n",
       "      <td>NaN</td>\n",
       "      <td>NaN</td>\n",
       "      <td>NaN</td>\n",
       "      <td>NaN</td>\n",
       "      <td>NaN</td>\n",
       "      <td>NaN</td>\n",
       "    </tr>\n",
       "    <tr>\n",
       "      <th>min</th>\n",
       "      <td>1.000000</td>\n",
       "      <td>NaN</td>\n",
       "      <td>NaN</td>\n",
       "      <td>NaN</td>\n",
       "      <td>NaN</td>\n",
       "      <td>NaN</td>\n",
       "      <td>NaN</td>\n",
       "      <td>NaN</td>\n",
       "    </tr>\n",
       "    <tr>\n",
       "      <th>25%</th>\n",
       "      <td>2887.750000</td>\n",
       "      <td>NaN</td>\n",
       "      <td>NaN</td>\n",
       "      <td>NaN</td>\n",
       "      <td>NaN</td>\n",
       "      <td>NaN</td>\n",
       "      <td>NaN</td>\n",
       "      <td>NaN</td>\n",
       "    </tr>\n",
       "    <tr>\n",
       "      <th>50%</th>\n",
       "      <td>5774.500000</td>\n",
       "      <td>NaN</td>\n",
       "      <td>NaN</td>\n",
       "      <td>NaN</td>\n",
       "      <td>NaN</td>\n",
       "      <td>NaN</td>\n",
       "      <td>NaN</td>\n",
       "      <td>NaN</td>\n",
       "    </tr>\n",
       "    <tr>\n",
       "      <th>75%</th>\n",
       "      <td>8661.250000</td>\n",
       "      <td>NaN</td>\n",
       "      <td>NaN</td>\n",
       "      <td>NaN</td>\n",
       "      <td>NaN</td>\n",
       "      <td>NaN</td>\n",
       "      <td>NaN</td>\n",
       "      <td>NaN</td>\n",
       "    </tr>\n",
       "    <tr>\n",
       "      <th>max</th>\n",
       "      <td>11548.000000</td>\n",
       "      <td>NaN</td>\n",
       "      <td>NaN</td>\n",
       "      <td>NaN</td>\n",
       "      <td>NaN</td>\n",
       "      <td>NaN</td>\n",
       "      <td>NaN</td>\n",
       "      <td>NaN</td>\n",
       "    </tr>\n",
       "  </tbody>\n",
       "</table>\n",
       "</div>"
      ],
      "text/plain": [
       "                  ID  isDelinquent       term gender purpose home_ownership  \\\n",
       "count   11548.000000       11548.0      11548  11548   11548          11548   \n",
       "unique           NaN           2.0          2      2       7              3   \n",
       "top              NaN           1.0  36 months   Male   House       Mortgage   \n",
       "freq             NaN        7721.0      10589   6555    6892           5461   \n",
       "mean     5774.500000           NaN        NaN    NaN     NaN            NaN   \n",
       "std      3333.764789           NaN        NaN    NaN     NaN            NaN   \n",
       "min         1.000000           NaN        NaN    NaN     NaN            NaN   \n",
       "25%      2887.750000           NaN        NaN    NaN     NaN            NaN   \n",
       "50%      5774.500000           NaN        NaN    NaN     NaN            NaN   \n",
       "75%      8661.250000           NaN        NaN    NaN     NaN            NaN   \n",
       "max     11548.000000           NaN        NaN    NaN     NaN            NaN   \n",
       "\n",
       "          age     FICO  \n",
       "count   11548    11548  \n",
       "unique      2        2  \n",
       "top     20-25  300-500  \n",
       "freq     5888     6370  \n",
       "mean      NaN      NaN  \n",
       "std       NaN      NaN  \n",
       "min       NaN      NaN  \n",
       "25%       NaN      NaN  \n",
       "50%       NaN      NaN  \n",
       "75%       NaN      NaN  \n",
       "max       NaN      NaN  "
      ]
     },
     "execution_count": 11,
     "metadata": {},
     "output_type": "execute_result"
    }
   ],
   "source": [
    "loan.describe(include=\"all\")"
   ]
  },
  {
   "cell_type": "markdown",
   "metadata": {},
   "source": [
    "**Observations-**   \n",
    "\n",
    "* Most of the customers are loan delinquent(1).\n",
    "* Most of the loans are for a 36-month term loan.\n",
    "* More males have applied for loans than females.\n",
    "* Most loan applications are for house loans.\n",
    "* Most customers have either mortgaged their houses.\n",
    "* Mostly customers in the age group 20-25 have applied for a loan.\n",
    "* Most customers have a FICO score between 300 and 500."
   ]
  },
  {
   "cell_type": "code",
   "execution_count": 12,
   "metadata": {},
   "outputs": [
    {
     "data": {
      "text/plain": [
       "11548"
      ]
     },
     "execution_count": 12,
     "metadata": {},
     "output_type": "execute_result"
    }
   ],
   "source": [
    "# checking for unique values in ID column\n",
    "loan[\"ID\"].nunique()"
   ]
  },
  {
   "cell_type": "markdown",
   "metadata": {},
   "source": [
    "* Since all the values in ID column are unique we can drop it"
   ]
  },
  {
   "cell_type": "code",
   "execution_count": 13,
   "metadata": {},
   "outputs": [],
   "source": [
    "loan.drop([\"ID\"],axis=1,inplace=True)"
   ]
  },
  {
   "cell_type": "markdown",
   "metadata": {
    "colab_type": "text",
    "id": "Ie6gSJh8hU28"
   },
   "source": [
    "### Check for missing values"
   ]
  },
  {
   "cell_type": "code",
   "execution_count": 14,
   "metadata": {},
   "outputs": [
    {
     "data": {
      "text/plain": [
       "isDelinquent      0\n",
       "term              0\n",
       "gender            0\n",
       "purpose           0\n",
       "home_ownership    0\n",
       "age               0\n",
       "FICO              0\n",
       "dtype: int64"
      ]
     },
     "execution_count": 14,
     "metadata": {},
     "output_type": "execute_result"
    }
   ],
   "source": [
    "loan.isnull().sum()"
   ]
  },
  {
   "cell_type": "markdown",
   "metadata": {},
   "source": [
    "* There are no missing vaues in out dataset"
   ]
  },
  {
   "cell_type": "markdown",
   "metadata": {
    "colab_type": "text",
    "id": "7Rwx-1ZuhU3D"
   },
   "source": [
    "### Univariate analysis"
   ]
  },
  {
   "cell_type": "code",
   "execution_count": 15,
   "metadata": {},
   "outputs": [],
   "source": [
    "# Function to create barplots that indicate percentage for each category.\n",
    "\n",
    "def perc_on_bar(plot, feature):\n",
    "    '''\n",
    "    plot\n",
    "    feature: categorical feature\n",
    "    the function won't work if a column is passed in hue parameter\n",
    "    '''\n",
    "    total = len(feature) # length of the column\n",
    "    for p in ax.patches:\n",
    "        percentage = '{:.1f}%'.format(100 * p.get_height()/total) # percentage of each class of the category\n",
    "        x = p.get_x() + p.get_width() / 2 - 0.05 # width of the plot\n",
    "        y = p.get_y() + p.get_height()           # hieght of the plot\n",
    "        ax.annotate(percentage, (x, y), size = 12) # annotate the percantage \n",
    "    plt.show() # show the plot"
   ]
  },
  {
   "cell_type": "markdown",
   "metadata": {
    "colab_type": "text",
    "id": "vXoQOPsVhU3h"
   },
   "source": [
    "## Observations on isDelinquent"
   ]
  },
  {
   "cell_type": "code",
   "execution_count": 16,
   "metadata": {},
   "outputs": [
    {
     "data": {
      "image/png": "[encoded data removed]",
      "text/plain": [
       "<Figure size 1080x360 with 1 Axes>"
      ]
     },
     "metadata": {
      "needs_background": "light"
     },
     "output_type": "display_data"
    }
   ],
   "source": [
    "plt.figure(figsize=(15,5))\n",
    "ax = sns.countplot(loan[\"isDelinquent\"],palette='winter')\n",
    "perc_on_bar(ax,loan[\"isDelinquent\"])"
   ]
  },
  {
   "cell_type": "markdown",
   "metadata": {},
   "source": [
    "* 66% of the customers are delinquent"
   ]
  },
  {
   "cell_type": "markdown",
   "metadata": {
    "colab_type": "text",
    "id": "vXoQOPsVhU3h"
   },
   "source": [
    "## Observations on term"
   ]
  },
  {
   "cell_type": "code",
   "execution_count": 17,
   "metadata": {},
   "outputs": [
    {
     "data": {
      "image/png": "[encoded data removed]",
      "text/plain": [
       "<Figure size 1080x360 with 1 Axes>"
      ]
     },
     "metadata": {
      "needs_background": "light"
     },
     "output_type": "display_data"
    }
   ],
   "source": [
    "plt.figure(figsize=(15,5))\n",
    "ax = sns.countplot(loan[\"term\"],palette='winter')\n",
    "perc_on_bar(ax,loan[\"term\"])"
   ]
  },
  {
   "cell_type": "markdown",
   "metadata": {},
   "source": [
    "* 91.7% of the loans are for a 36 month term."
   ]
  },
  {
   "cell_type": "markdown",
   "metadata": {
    "colab_type": "text",
    "id": "vXoQOPsVhU3h"
   },
   "source": [
    "## Observations on gender"
   ]
  },
  {
   "cell_type": "code",
   "execution_count": 18,
   "metadata": {},
   "outputs": [
    {
     "data": {
      "image/png": "[encoded data removed]",
      "text/plain": [
       "<Figure size 1080x360 with 1 Axes>"
      ]
     },
     "metadata": {
      "needs_background": "light"
     },
     "output_type": "display_data"
    }
   ],
   "source": [
    "plt.figure(figsize=(15,5))\n",
    "ax = sns.countplot(loan[\"gender\"],palette='winter')\n",
    "perc_on_bar(ax,loan[\"gender\"])"
   ]
  },
  {
   "cell_type": "markdown",
   "metadata": {},
   "source": [
    "* There are more male applicants (56.8%) than female applicants (43.2%)"
   ]
  },
  {
   "cell_type": "markdown",
   "metadata": {
    "colab_type": "text",
    "id": "vXoQOPsVhU3h"
   },
   "source": [
    "## Observations on purpose"
   ]
  },
  {
   "cell_type": "code",
   "execution_count": 19,
   "metadata": {},
   "outputs": [
    {
     "data": {
      "image/png": "[encoded data removed]",
      "text/plain": [
       "<Figure size 1080x360 with 1 Axes>"
      ]
     },
     "metadata": {
      "needs_background": "light"
     },
     "output_type": "display_data"
    }
   ],
   "source": [
    "plt.figure(figsize=(15,5))\n",
    "ax = sns.countplot(loan[\"purpose\"],palette='winter')\n",
    "perc_on_bar(ax,loan[\"purpose\"])"
   ]
  },
  {
   "cell_type": "markdown",
   "metadata": {},
   "source": [
    "* Most loan applications are for house loans (59.7%) followed by car loans (18%)\n",
    "* There are 2 levels named 'other' and 'Other' under the purpose variable. Since we do not have any other information about these, we can merge these levels."
   ]
  },
  {
   "cell_type": "markdown",
   "metadata": {
    "colab_type": "text",
    "id": "vXoQOPsVhU3h"
   },
   "source": [
    "## Observations on home_ownership"
   ]
  },
  {
   "cell_type": "code",
   "execution_count": 20,
   "metadata": {},
   "outputs": [
    {
     "data": {
      "image/png": "[encoded data removed]",
      "text/plain": [
       "<Figure size 1080x360 with 1 Axes>"
      ]
     },
     "metadata": {
      "needs_background": "light"
     },
     "output_type": "display_data"
    }
   ],
   "source": [
    "plt.figure(figsize=(15,5))\n",
    "ax = sns.countplot(loan[\"home_ownership\"],palette='winter')\n",
    "perc_on_bar(ax,loan[\"home_ownership\"])"
   ]
  },
  {
   "cell_type": "markdown",
   "metadata": {},
   "source": [
    "* Very few applicants <10% own their house, Most customers have either mortgaged their houses or live on rent. "
   ]
  },
  {
   "cell_type": "markdown",
   "metadata": {
    "colab_type": "text",
    "id": "vXoQOPsVhU3h"
   },
   "source": [
    "## Observations on age"
   ]
  },
  {
   "cell_type": "code",
   "execution_count": 21,
   "metadata": {},
   "outputs": [
    {
     "data": {
      "image/png": "[encoded data removed]",
      "text/plain": [
       "<Figure size 1080x360 with 1 Axes>"
      ]
     },
     "metadata": {
      "needs_background": "light"
     },
     "output_type": "display_data"
    }
   ],
   "source": [
    "plt.figure(figsize=(15,5))\n",
    "ax = sns.countplot(loan[\"age\"],palette='winter')\n",
    "perc_on_bar(ax,loan[\"age\"])"
   ]
  },
  {
   "cell_type": "markdown",
   "metadata": {},
   "source": [
    "* Almost an equal percentage of people aged 20-25 and >25 have applied for the loan."
   ]
  },
  {
   "cell_type": "markdown",
   "metadata": {
    "colab_type": "text",
    "id": "vXoQOPsVhU3h"
   },
   "source": [
    "## Observations on FICO"
   ]
  },
  {
   "cell_type": "code",
   "execution_count": 22,
   "metadata": {},
   "outputs": [
    {
     "data": {
      "image/png": "[encoded data removed]",
      "text/plain": [
       "<Figure size 1080x360 with 1 Axes>"
      ]
     },
     "metadata": {
      "needs_background": "light"
     },
     "output_type": "display_data"
    }
   ],
   "source": [
    "plt.figure(figsize=(15,5))\n",
    "ax = sns.countplot(loan[\"FICO\"],palette='winter')\n",
    "perc_on_bar(ax,loan[\"FICO\"])"
   ]
  },
  {
   "cell_type": "markdown",
   "metadata": {},
   "source": [
    "* Most customers have a FICO score between 300 and 500 (55.2%) followed by a score of greater than 500 (44.8%)"
   ]
  },
  {
   "cell_type": "markdown",
   "metadata": {},
   "source": [
    "## Data Cleaning"
   ]
  },
  {
   "cell_type": "code",
   "execution_count": 23,
   "metadata": {},
   "outputs": [
    {
     "data": {
      "text/plain": [
       "[House, Car, Other, Personal, Wedding, Medical, other]\n",
       "Categories (7, object): [House, Car, Other, Personal, Wedding, Medical, other]"
      ]
     },
     "execution_count": 23,
     "metadata": {},
     "output_type": "execute_result"
    }
   ],
   "source": [
    "loan[\"purpose\"].unique()"
   ]
  },
  {
   "cell_type": "markdown",
   "metadata": {},
   "source": [
    "### We can merge the purpose -  'other' and 'Other' together"
   ]
  },
  {
   "cell_type": "code",
   "execution_count": 24,
   "metadata": {},
   "outputs": [],
   "source": [
    "loan[\"purpose\"].replace('other',\"Other\",inplace=True)"
   ]
  },
  {
   "cell_type": "code",
   "execution_count": 25,
   "metadata": {},
   "outputs": [
    {
     "data": {
      "text/plain": [
       "[House, Car, Other, Personal, Wedding, Medical]\n",
       "Categories (6, object): [House, Car, Other, Personal, Wedding, Medical]"
      ]
     },
     "execution_count": 25,
     "metadata": {},
     "output_type": "execute_result"
    }
   ],
   "source": [
    "loan[\"purpose\"].unique()"
   ]
  },
  {
   "cell_type": "markdown",
   "metadata": {},
   "source": [
    "## Bivariate Analysis"
   ]
  },
  {
   "cell_type": "code",
   "execution_count": 26,
   "metadata": {},
   "outputs": [],
   "source": [
    "## Function to plot stacked bar chart\n",
    "def stacked_plot(x):\n",
    "    sns.set(palette='nipy_spectral')\n",
    "    tab1 = pd.crosstab(x,loan['isDelinquent'],margins=True)\n",
    "    print(tab1)\n",
    "    print('-'*120)\n",
    "    tab = pd.crosstab(x,loan['isDelinquent'],normalize='index')\n",
    "    tab.plot(kind='bar',stacked=True,figsize=(10,5))\n",
    "    #plt.legend(loc='lower left', frameon=False)\n",
    "    #plt.legend(loc=\"upper left\", bbox_to_anchor=(0,1))\n",
    "    plt.show()"
   ]
  },
  {
   "cell_type": "code",
   "execution_count": 27,
   "metadata": {},
   "outputs": [
    {
     "name": "stdout",
     "output_type": "stream",
     "text": [
      "isDelinquent     0     1    All\n",
      "term                           \n",
      "36 months     3168  7421  10589\n",
      "60 months      659   300    959\n",
      "All           3827  7721  11548\n",
      "------------------------------------------------------------------------------------------------------------------------\n"
     ]
    },
    {
     "data": {
      "image/png": "[encoded data removed]",
      "text/plain": [
       "<Figure size 720x360 with 1 Axes>"
      ]
     },
     "metadata": {},
     "output_type": "display_data"
    }
   ],
   "source": [
    "stacked_plot(loan['term'])"
   ]
  },
  {
   "cell_type": "markdown",
   "metadata": {},
   "source": [
    "* Most loan delinquent customers have taken loan for 36 months."
   ]
  },
  {
   "cell_type": "code",
   "execution_count": 28,
   "metadata": {},
   "outputs": [
    {
     "name": "stdout",
     "output_type": "stream",
     "text": [
      "isDelinquent     0     1    All\n",
      "gender                         \n",
      "Female        1850  3143   4993\n",
      "Male          1977  4578   6555\n",
      "All           3827  7721  11548\n",
      "------------------------------------------------------------------------------------------------------------------------\n"
     ]
    },
    {
     "data": {
      "image/png": "[encoded data removed]",
      "text/plain": [
       "<Figure size 720x360 with 1 Axes>"
      ]
     },
     "metadata": {},
     "output_type": "display_data"
    }
   ],
   "source": [
    "stacked_plot(loan['gender'])"
   ]
  },
  {
   "cell_type": "markdown",
   "metadata": {},
   "source": [
    "* There's not much difference between male and female customers."
   ]
  },
  {
   "cell_type": "code",
   "execution_count": 29,
   "metadata": {},
   "outputs": [
    {
     "name": "stdout",
     "output_type": "stream",
     "text": [
      "isDelinquent     0     1    All\n",
      "purpose                        \n",
      "Car            678  1402   2080\n",
      "House         2272  4620   6892\n",
      "Medical        107   159    266\n",
      "Other          357   653   1010\n",
      "Personal       274   618    892\n",
      "Wedding        139   269    408\n",
      "All           3827  7721  11548\n",
      "------------------------------------------------------------------------------------------------------------------------\n"
     ]
    },
    {
     "data": {
      "image/png": "[encoded data removed]",
      "text/plain": [
       "<Figure size 720x360 with 1 Axes>"
      ]
     },
     "metadata": {},
     "output_type": "display_data"
    }
   ],
   "source": [
    "stacked_plot(loan['purpose'])"
   ]
  },
  {
   "cell_type": "markdown",
   "metadata": {},
   "source": [
    "* Most loan delinquent customers are those who have applied for house loans followed by car and personal loans."
   ]
  },
  {
   "cell_type": "code",
   "execution_count": 30,
   "metadata": {},
   "outputs": [
    {
     "name": "stdout",
     "output_type": "stream",
     "text": [
      "isDelinquent       0     1    All\n",
      "home_ownership                   \n",
      "Mortgage        1831  3630   5461\n",
      "Own              259   612    871\n",
      "Rent            1737  3479   5216\n",
      "All             3827  7721  11548\n",
      "------------------------------------------------------------------------------------------------------------------------\n"
     ]
    },
    {
     "data": {
      "image/png": "[encoded data removed]",
      "text/plain": [
       "<Figure size 720x360 with 1 Axes>"
      ]
     },
     "metadata": {},
     "output_type": "display_data"
    }
   ],
   "source": [
    "stacked_plot(loan['home_ownership'])"
   ]
  },
  {
   "cell_type": "markdown",
   "metadata": {},
   "source": [
    "* Those customers who have their own house are less delinquent than the ones who live in a rented place or have mortgaged their home."
   ]
  },
  {
   "cell_type": "code",
   "execution_count": 31,
   "metadata": {},
   "outputs": [
    {
     "name": "stdout",
     "output_type": "stream",
     "text": [
      "isDelinquent     0     1    All\n",
      "age                            \n",
      "20-25         1858  4030   5888\n",
      ">25           1969  3691   5660\n",
      "All           3827  7721  11548\n",
      "------------------------------------------------------------------------------------------------------------------------\n"
     ]
    },
    {
     "data": {
      "image/png": "[encoded data removed]",
      "text/plain": [
       "<Figure size 720x360 with 1 Axes>"
      ]
     },
     "metadata": {},
     "output_type": "display_data"
    }
   ],
   "source": [
    "stacked_plot(loan['age'])"
   ]
  },
  {
   "cell_type": "markdown",
   "metadata": {},
   "source": [
    "* Customers between 20-25 years of age are more delinquent."
   ]
  },
  {
   "cell_type": "code",
   "execution_count": 32,
   "metadata": {
    "scrolled": false
   },
   "outputs": [
    {
     "name": "stdout",
     "output_type": "stream",
     "text": [
      "isDelinquent     0     1    All\n",
      "FICO                           \n",
      "300-500        941  5429   6370\n",
      ">500          2886  2292   5178\n",
      "All           3827  7721  11548\n",
      "------------------------------------------------------------------------------------------------------------------------\n"
     ]
    },
    {
     "data": {
      "image/png": "[encoded data removed]",
      "text/plain": [
       "<Figure size 720x360 with 1 Axes>"
      ]
     },
     "metadata": {},
     "output_type": "display_data"
    }
   ],
   "source": [
    "stacked_plot(loan['FICO'])"
   ]
  },
  {
   "cell_type": "markdown",
   "metadata": {},
   "source": [
    "* If FICO score is >500 the chances of delinquency decrease quite a lot compared to when FICO score is between 300-500."
   ]
  },
  {
   "cell_type": "markdown",
   "metadata": {},
   "source": [
    "### Key Observations - \n",
    "* FICO score and term of loan application appear to be very strong indicators of delinquency.\n",
    "\n",
    "* Other factors appear to be not very good indicators of delinquency. (We can use chi-square tests to determine statistical significance in the association between two categorical variables)."
   ]
  },
  {
   "cell_type": "markdown",
   "metadata": {},
   "source": [
    "### We observed that a high FICO score means that the chances of delinquency are lower, let us see  if any of the other variables indicate higher a FICO score."
   ]
  },
  {
   "cell_type": "code",
   "execution_count": 33,
   "metadata": {},
   "outputs": [],
   "source": [
    "def stacked_plot_FICO(x):\n",
    "    sns.set(palette='nipy_spectral')\n",
    "    tab1 = pd.crosstab(x,loan['FICO'],margins=True)\n",
    "    print(tab1)\n",
    "    print('-'*120)\n",
    "    tab = pd.crosstab(x,loan['FICO'],normalize='index')\n",
    "    tab.plot(kind='bar',stacked=True,figsize=(10,5))\n",
    "    #plt.legend(loc='lower left', frameon=False)\n",
    "    #plt.legend(loc=\"upper left\", bbox_to_anchor=(0,1))\n",
    "    plt.show()"
   ]
  },
  {
   "cell_type": "code",
   "execution_count": 34,
   "metadata": {
    "scrolled": false
   },
   "outputs": [
    {
     "name": "stdout",
     "output_type": "stream",
     "text": [
      "FICO            300-500  >500    All\n",
      "home_ownership                      \n",
      "Mortgage           2857  2604   5461\n",
      "Own                 480   391    871\n",
      "Rent               3033  2183   5216\n",
      "All                6370  5178  11548\n",
      "------------------------------------------------------------------------------------------------------------------------\n"
     ]
    },
    {
     "data": {
      "image/png": "[encoded data removed]",
      "text/plain": [
       "<Figure size 720x360 with 1 Axes>"
      ]
     },
     "metadata": {},
     "output_type": "display_data"
    }
   ],
   "source": [
    "stacked_plot_FICO(loan['home_ownership'])"
   ]
  },
  {
   "cell_type": "code",
   "execution_count": 35,
   "metadata": {
    "scrolled": false
   },
   "outputs": [
    {
     "name": "stdout",
     "output_type": "stream",
     "text": [
      "FICO   300-500  >500    All\n",
      "age                        \n",
      "20-25     3927  1961   5888\n",
      ">25       2443  3217   5660\n",
      "All       6370  5178  11548\n",
      "------------------------------------------------------------------------------------------------------------------------\n"
     ]
    },
    {
     "data": {
      "image/png": "[encoded data removed]",
      "text/plain": [
       "<Figure size 720x360 with 1 Axes>"
      ]
     },
     "metadata": {},
     "output_type": "display_data"
    }
   ],
   "source": [
    "stacked_plot_FICO(loan['age'])"
   ]
  },
  {
   "cell_type": "code",
   "execution_count": 36,
   "metadata": {
    "scrolled": false
   },
   "outputs": [
    {
     "name": "stdout",
     "output_type": "stream",
     "text": [
      "FICO    300-500  >500    All\n",
      "gender                      \n",
      "Female     2665  2328   4993\n",
      "Male       3705  2850   6555\n",
      "All        6370  5178  11548\n",
      "------------------------------------------------------------------------------------------------------------------------\n"
     ]
    },
    {
     "data": {
      "image/png": "[encoded data removed]",
      "text/plain": [
       "<Figure size 720x360 with 1 Axes>"
      ]
     },
     "metadata": {},
     "output_type": "display_data"
    }
   ],
   "source": [
    "stacked_plot_FICO(loan['gender'])"
   ]
  },
  {
   "cell_type": "markdown",
   "metadata": {},
   "source": [
    "## Key Observations\n",
    "\n",
    "1. Home ownership and gender seem to have a slight impact on the FICO scores.\n",
    "2. Age seems to have a much bigger impact on FICO scores."
   ]
  },
  {
   "cell_type": "markdown",
   "metadata": {},
   "source": [
    "### Let us check which of these differences are statistically significant.\n",
    "\n",
    "The Chi-Square test is a statistical method to determine if two categorical variables have a significant correlation between them.\n",
    "  \n",
    "**Null Hypothesis -** There is no association between the two variables.      \n",
    "**Alternate Hypothesis -** There is an association between two variables."
   ]
  },
  {
   "cell_type": "code",
   "execution_count": 37,
   "metadata": {},
   "outputs": [
    {
     "name": "stdout",
     "output_type": "stream",
     "text": [
      "FICO score has an effect on home ownership as the p_value (0.0) < 0.05\n"
     ]
    }
   ],
   "source": [
    "crosstab = pd.crosstab(loan['FICO'],loan['home_ownership'])  # Contingency table of region and smoker attributes\n",
    "\n",
    "Ho = \"FICO score has no effect on home ownership\"   # Stating the Null Hypothesis\n",
    "Ha = \"FICO score has an effect on home ownership\"   # Stating the Alternate Hypothesis\n",
    "\n",
    "chi, p_value, dof, expected =  stats.chi2_contingency(crosstab)\n",
    "\n",
    "if p_value < 0.05:  # Setting our significance level at 5%\n",
    "    print(f'{Ha} as the p_value ({p_value.round(3)}) < 0.05')\n",
    "else:\n",
    "    print(f'{Ho} as the p_value ({p_value.round(3)}) > 0.05')"
   ]
  },
  {
   "cell_type": "code",
   "execution_count": 38,
   "metadata": {},
   "outputs": [
    {
     "name": "stdout",
     "output_type": "stream",
     "text": [
      "FICO score has an effect on gender as the p_value (0.001) < 0.05\n"
     ]
    }
   ],
   "source": [
    "crosstab = pd.crosstab(loan['FICO'],loan['gender'])  # Contingency table of region and smoker attributes\n",
    "\n",
    "Ho = \"FICO score has no effect on gender\"   # Stating the Null Hypothesis\n",
    "Ha = \"FICO score has an effect on gender\"   # Stating the Alternate Hypothesis\n",
    "\n",
    "chi, p_value, dof, expected =  stats.chi2_contingency(crosstab)\n",
    "\n",
    "if p_value < 0.05:  # Setting our significance level at 5%\n",
    "    print(f'{Ha} as the p_value ({p_value.round(3)}) < 0.05')\n",
    "else:\n",
    "    print(f'{Ho} as the p_value ({p_value.round(3)}) > 0.05')"
   ]
  },
  {
   "cell_type": "code",
   "execution_count": 39,
   "metadata": {},
   "outputs": [
    {
     "name": "stdout",
     "output_type": "stream",
     "text": [
      "FICO score has an effect on age as the p_value (0.0) < 0.05\n"
     ]
    }
   ],
   "source": [
    "crosstab = pd.crosstab(loan['FICO'],loan['age'])  # Contingency table of region and smoker attributes\n",
    "\n",
    "Ho = \"FICO score has no effect on age\"   # Stating the Null Hypothesis\n",
    "Ha = \"FICO score has an effect on age\"   # Stating the Alternate Hypothesis\n",
    "\n",
    "chi, p_value, dof, expected =  stats.chi2_contingency(crosstab)\n",
    "\n",
    "if p_value < 0.05:  # Setting our significance level at 5%\n",
    "    print(f'{Ha} as the p_value ({p_value.round(3)}) < 0.05')\n",
    "else:\n",
    "    print(f'{Ho} as the p_value ({p_value.round(3)}) > 0.05')"
   ]
  },
  {
   "cell_type": "markdown",
   "metadata": {},
   "source": [
    "## Key Observations-\n",
    "\n",
    "* P-value for all tests < 0.01. Hence, all the differences that we see in the 3 plots are statistically significant.\n",
    "* There is a correlation between FICO Score and house_ownership. People who have mortgaged their houses have higher FICO scores than people who own the house (peculiar!).\n",
    "* There is a correlation between FICO Score and gender. More females have >500 FICO scores as compared to Males.\n",
    "* There is a correlation between FICO Score and age. People >25 years of age have higher FICO scores as compared to people of age 20-25. "
   ]
  },
  {
   "cell_type": "markdown",
   "metadata": {},
   "source": [
    "## Model Building - Approach\n",
    "1. Data preparation\n",
    "2. Partition the data into train and test set.\n",
    "3. Build a model on the train data.\n",
    "4. Tune the model and prune the tree, if required.\n",
    "5. Test the data on test set."
   ]
  },
  {
   "cell_type": "markdown",
   "metadata": {},
   "source": [
    "## Split Data"
   ]
  },
  {
   "cell_type": "code",
   "execution_count": 40,
   "metadata": {},
   "outputs": [],
   "source": [
    "x = loan.drop([\"isDelinquent\"], axis=1)\n",
    "y = loan[\"isDelinquent\"]"
   ]
  },
  {
   "cell_type": "code",
   "execution_count": 41,
   "metadata": {},
   "outputs": [
    {
     "data": {
      "text/html": [
       "<div>\n",
       "<style scoped>\n",
       "    .dataframe tbody tr th:only-of-type {\n",
       "        vertical-align: middle;\n",
       "    }\n",
       "\n",
       "    .dataframe tbody tr th {\n",
       "        vertical-align: top;\n",
       "    }\n",
       "\n",
       "    .dataframe thead th {\n",
       "        text-align: right;\n",
       "    }\n",
       "</style>\n",
       "<table border=\"1\" class=\"dataframe\">\n",
       "  <thead>\n",
       "    <tr style=\"text-align: right;\">\n",
       "      <th></th>\n",
       "      <th>term_60 months</th>\n",
       "      <th>gender_Male</th>\n",
       "      <th>purpose_House</th>\n",
       "      <th>purpose_Medical</th>\n",
       "      <th>purpose_Other</th>\n",
       "      <th>purpose_Personal</th>\n",
       "      <th>purpose_Wedding</th>\n",
       "      <th>home_ownership_Own</th>\n",
       "      <th>home_ownership_Rent</th>\n",
       "      <th>age_&gt;25</th>\n",
       "      <th>FICO_&gt;500</th>\n",
       "    </tr>\n",
       "  </thead>\n",
       "  <tbody>\n",
       "    <tr>\n",
       "      <th>0</th>\n",
       "      <td>0</td>\n",
       "      <td>0</td>\n",
       "      <td>1</td>\n",
       "      <td>0</td>\n",
       "      <td>0</td>\n",
       "      <td>0</td>\n",
       "      <td>0</td>\n",
       "      <td>0</td>\n",
       "      <td>0</td>\n",
       "      <td>1</td>\n",
       "      <td>0</td>\n",
       "    </tr>\n",
       "    <tr>\n",
       "      <th>1</th>\n",
       "      <td>0</td>\n",
       "      <td>0</td>\n",
       "      <td>1</td>\n",
       "      <td>0</td>\n",
       "      <td>0</td>\n",
       "      <td>0</td>\n",
       "      <td>0</td>\n",
       "      <td>0</td>\n",
       "      <td>1</td>\n",
       "      <td>0</td>\n",
       "      <td>1</td>\n",
       "    </tr>\n",
       "    <tr>\n",
       "      <th>2</th>\n",
       "      <td>0</td>\n",
       "      <td>0</td>\n",
       "      <td>1</td>\n",
       "      <td>0</td>\n",
       "      <td>0</td>\n",
       "      <td>0</td>\n",
       "      <td>0</td>\n",
       "      <td>0</td>\n",
       "      <td>1</td>\n",
       "      <td>1</td>\n",
       "      <td>0</td>\n",
       "    </tr>\n",
       "    <tr>\n",
       "      <th>3</th>\n",
       "      <td>0</td>\n",
       "      <td>0</td>\n",
       "      <td>0</td>\n",
       "      <td>0</td>\n",
       "      <td>0</td>\n",
       "      <td>0</td>\n",
       "      <td>0</td>\n",
       "      <td>0</td>\n",
       "      <td>0</td>\n",
       "      <td>1</td>\n",
       "      <td>0</td>\n",
       "    </tr>\n",
       "    <tr>\n",
       "      <th>4</th>\n",
       "      <td>0</td>\n",
       "      <td>0</td>\n",
       "      <td>1</td>\n",
       "      <td>0</td>\n",
       "      <td>0</td>\n",
       "      <td>0</td>\n",
       "      <td>0</td>\n",
       "      <td>0</td>\n",
       "      <td>1</td>\n",
       "      <td>1</td>\n",
       "      <td>0</td>\n",
       "    </tr>\n",
       "  </tbody>\n",
       "</table>\n",
       "</div>"
      ],
      "text/plain": [
       "   term_60 months  gender_Male  purpose_House  purpose_Medical  purpose_Other  \\\n",
       "0               0            0              1                0              0   \n",
       "1               0            0              1                0              0   \n",
       "2               0            0              1                0              0   \n",
       "3               0            0              0                0              0   \n",
       "4               0            0              1                0              0   \n",
       "\n",
       "   purpose_Personal  purpose_Wedding  home_ownership_Own  home_ownership_Rent  \\\n",
       "0                 0                0                   0                    0   \n",
       "1                 0                0                   0                    1   \n",
       "2                 0                0                   0                    1   \n",
       "3                 0                0                   0                    0   \n",
       "4                 0                0                   0                    1   \n",
       "\n",
       "   age_>25  FICO_>500  \n",
       "0        1          0  \n",
       "1        0          1  \n",
       "2        1          0  \n",
       "3        1          0  \n",
       "4        1          0  "
      ]
     },
     "execution_count": 41,
     "metadata": {},
     "output_type": "execute_result"
    }
   ],
   "source": [
    "# encoding the categorical variables\n",
    "x = pd.get_dummies(x, drop_first=True)\n",
    "x.head()"
   ]
  },
  {
   "cell_type": "code",
   "execution_count": 42,
   "metadata": {},
   "outputs": [],
   "source": [
    "X_train, X_test, y_train, y_test = train_test_split(x, y, test_size=0.3 , random_state=7,stratify=y)"
   ]
  },
  {
   "cell_type": "code",
   "execution_count": 43,
   "metadata": {},
   "outputs": [
    {
     "data": {
      "text/plain": [
       "1    0.668601\n",
       "0    0.331399\n",
       "Name: isDelinquent, dtype: float64"
      ]
     },
     "execution_count": 43,
     "metadata": {},
     "output_type": "execute_result"
    }
   ],
   "source": [
    "y.value_counts(1)"
   ]
  },
  {
   "cell_type": "code",
   "execution_count": 44,
   "metadata": {},
   "outputs": [
    {
     "data": {
      "text/plain": [
       "1    0.668564\n",
       "0    0.331436\n",
       "Name: isDelinquent, dtype: float64"
      ]
     },
     "execution_count": 44,
     "metadata": {},
     "output_type": "execute_result"
    }
   ],
   "source": [
    "y_train.value_counts(1)"
   ]
  },
  {
   "cell_type": "markdown",
   "metadata": {},
   "source": [
    "**What does a bank want?**\n",
    "* A bank wants to minimize the loss - it can face 2 types of losses here: \n",
    "   * Whenever a bank lends money to a customer, they don't return that.\n",
    "   * A bank doesn't lend money to a customer thinking a customer will default but in reality, the customer won't - opportunity loss.\n",
    "\n",
    "**Which loss is greater ?**\n",
    "* Lending to a customer who wouldn't be able to pay back.\n",
    "\n",
    "**Since we want to reduce loan delinquency we should use Recall as a metric of model evaluation instead of accuracy.**\n",
    "\n",
    "* Recall - It gives the ratio of True positives to Actual positives, so high Recall implies low false negatives, i.e. low chances of predicting loan-delinquent customers as a non-loan-delinquent customer."
   ]
  },
  {
   "cell_type": "code",
   "execution_count": 45,
   "metadata": {},
   "outputs": [],
   "source": [
    "##  Function to calculate different metric scores of the model - Accuracy, Recall and Precision\n",
    "def get_metrics_score(model,train,test,train_y,test_y,flag=True):\n",
    "    '''\n",
    "    model : classifier to predict values of X\n",
    "\n",
    "    '''\n",
    "    # defining an empty list to store train and test results\n",
    "    score_list=[] \n",
    "    \n",
    "    pred_train = model.predict(train)\n",
    "    pred_test = model.predict(test)\n",
    "    \n",
    "    train_acc = model.score(train,train_y)\n",
    "    test_acc = model.score(test,test_y)\n",
    "    \n",
    "    train_recall = metrics.recall_score(train_y,pred_train)\n",
    "    test_recall = metrics.recall_score(test_y,pred_test)\n",
    "    \n",
    "    train_precision = metrics.precision_score(train_y,pred_train)\n",
    "    test_precision = metrics.precision_score(test_y,pred_test)\n",
    "    \n",
    "    score_list.extend((train_acc,test_acc,train_recall,test_recall,train_precision,test_precision))\n",
    "        \n",
    "    # If the flag is set to True then only the following print statements will be dispayed. The default value is set to True.\n",
    "    if flag == True: \n",
    "        print(\"Accuracy on training set : \",model.score(train,train_y))\n",
    "        print(\"Accuracy on test set : \",model.score(test,test_y))\n",
    "        print(\"Recall on training set : \",metrics.recall_score(train_y,pred_train))\n",
    "        print(\"Recall on test set : \",metrics.recall_score(test_y,pred_test))\n",
    "        print(\"Precision on training set : \",metrics.precision_score(train_y,pred_train))\n",
    "        print(\"Precision on test set : \",metrics.precision_score(test_y,pred_test))\n",
    "    \n",
    "    return score_list # returning the list with train and test scores"
   ]
  },
  {
   "cell_type": "code",
   "execution_count": 46,
   "metadata": {},
   "outputs": [],
   "source": [
    "## Function to create confusion matrix\n",
    "def make_confusion_matrix(model,y_actual,labels=[1, 0]):\n",
    "    '''\n",
    "    model : classifier to predict values of X\n",
    "    y_actual : ground truth  \n",
    "    \n",
    "    '''\n",
    "    y_predict = model.predict(X_test)\n",
    "    cm=metrics.confusion_matrix( y_actual, y_predict, labels=[0, 1])\n",
    "    df_cm = pd.DataFrame(cm, index = [i for i in [\"Actual - No\",\"Actual - Yes\"]],\n",
    "                  columns = [i for i in ['Predicted - No','Predicted - Yes']])\n",
    "    group_counts = [\"{0:0.0f}\".format(value) for value in\n",
    "                cm.flatten()]\n",
    "    group_percentages = [\"{0:.2%}\".format(value) for value in\n",
    "                         cm.flatten()/np.sum(cm)]\n",
    "    labels = [f\"{v1}\\n{v2}\" for v1, v2 in\n",
    "              zip(group_counts,group_percentages)]\n",
    "    labels = np.asarray(labels).reshape(2,2)\n",
    "    plt.figure(figsize = (10,7))\n",
    "    sns.heatmap(df_cm, annot=labels,fmt='')\n",
    "    plt.ylabel('True label')\n",
    "    plt.xlabel('Predicted label')"
   ]
  },
  {
   "cell_type": "markdown",
   "metadata": {},
   "source": [
    "### Logistic Regression "
   ]
  },
  {
   "cell_type": "code",
   "execution_count": 47,
   "metadata": {
    "scrolled": true
   },
   "outputs": [
    {
     "data": {
      "text/plain": [
       "LogisticRegression(random_state=1)"
      ]
     },
     "execution_count": 47,
     "metadata": {},
     "output_type": "execute_result"
    }
   ],
   "source": [
    "lr = LogisticRegression(random_state=1)\n",
    "lr.fit(X_train,y_train)"
   ]
  },
  {
   "cell_type": "markdown",
   "metadata": {},
   "source": [
    "**Let's evaluate the model performance by using KFold and cross_val_score**\n",
    "\n",
    "- `K-Folds cross-validator` provides dataset indices to split data into train/validation sets. Split dataset into k consecutive stratified folds (without shuffling by default). Each fold is then used once as validation while the k - 1 remaining folds form the training set."
   ]
  },
  {
   "cell_type": "code",
   "execution_count": 48,
   "metadata": {},
   "outputs": [
    {
     "data": {
      "image/png": "[encoded data removed]",
      "text/plain": [
       "<Figure size 432x288 with 1 Axes>"
      ]
     },
     "metadata": {},
     "output_type": "display_data"
    }
   ],
   "source": [
    "scoring='recall'\n",
    "kfold=StratifiedKFold(n_splits=5,shuffle=True,random_state=1)     #Setting number of splits equal to 5\n",
    "cv_result_bfr=cross_val_score(estimator=lr, X=X_train, y=y_train, scoring=scoring, cv=kfold)\n",
    "#Plotting boxplots for CV scores of model defined above\n",
    "plt.boxplot(cv_result_bfr)\n",
    "plt.show()"
   ]
  },
  {
   "cell_type": "markdown",
   "metadata": {},
   "source": [
    "* Performance on training set varies between 0.86 to 0.86 recall.\n",
    "* Let's check the performance on test data."
   ]
  },
  {
   "cell_type": "code",
   "execution_count": 49,
   "metadata": {},
   "outputs": [
    {
     "name": "stdout",
     "output_type": "stream",
     "text": [
      "Accuracy on training set :  0.7834962266485216\n",
      "Accuracy on test set :  0.7948051948051948\n",
      "Recall on training set :  0.877498149518875\n",
      "Recall on test set :  0.8813120414328873\n",
      "Precision on training set :  0.8133790737564323\n",
      "Precision on test set :  0.8240516545601292\n"
     ]
    },
    {
     "data": {
      "image/png": "[encoded data removed]",
      "text/plain": [
       "<Figure size 720x504 with 2 Axes>"
      ]
     },
     "metadata": {},
     "output_type": "display_data"
    }
   ],
   "source": [
    "#Calculating different metrics\n",
    "scores_LR = get_metrics_score(lr,X_train,X_test,y_train,y_test)\n",
    "\n",
    "# creating confusion matrix\n",
    "make_confusion_matrix(lr,y_test)"
   ]
  },
  {
   "cell_type": "markdown",
   "metadata": {},
   "source": [
    "* Logistic Regression has given a generalized performance on training and test set.\n",
    "* Recall is very also very good, let's see if the model performance can be further improved by:\n",
    "\n",
    "  a) Oversampling - getting more data points for the minority class.\n",
    "  \n",
    "  b) Undersampling - dealing with the class imbalance."
   ]
  },
  {
   "cell_type": "markdown",
   "metadata": {},
   "source": [
    "### Oversampling train data using SMOTE"
   ]
  },
  {
   "cell_type": "code",
   "execution_count": 50,
   "metadata": {},
   "outputs": [],
   "source": [
    "from imblearn.over_sampling import SMOTE"
   ]
  },
  {
   "cell_type": "code",
   "execution_count": 51,
   "metadata": {},
   "outputs": [
    {
     "name": "stdout",
     "output_type": "stream",
     "text": [
      "Before UpSampling, counts of label 'Yes': 5404\n",
      "Before UpSampling, counts of label 'No': 2679 \n",
      "\n",
      "After UpSampling, counts of label 'Yes': 5404\n",
      "After UpSampling, counts of label 'No': 5404 \n",
      "\n",
      "After UpSampling, the shape of train_X: (10808, 11)\n",
      "After UpSampling, the shape of train_y: (10808,) \n",
      "\n"
     ]
    }
   ],
   "source": [
    "print(\"Before UpSampling, counts of label 'Yes': {}\".format(sum(y_train==1)))\n",
    "print(\"Before UpSampling, counts of label 'No': {} \\n\".format(sum(y_train==0)))\n",
    "\n",
    "sm = SMOTE(sampling_strategy = 1 ,k_neighbors = 5, random_state=1)   #Synthetic Minority Over Sampling Technique\n",
    "X_train_over, y_train_over = sm.fit_resample(X_train, y_train)\n",
    "\n",
    "\n",
    "print(\"After UpSampling, counts of label 'Yes': {}\".format(sum(y_train_over==1)))\n",
    "print(\"After UpSampling, counts of label 'No': {} \\n\".format(sum(y_train_over==0)))\n",
    "\n",
    "\n",
    "print('After UpSampling, the shape of train_X: {}'.format(X_train_over.shape))\n",
    "print('After UpSampling, the shape of train_y: {} \\n'.format(y_train_over.shape))"
   ]
  },
  {
   "cell_type": "markdown",
   "metadata": {},
   "source": [
    "### Logistic Regression on oversampled data"
   ]
  },
  {
   "cell_type": "code",
   "execution_count": 52,
   "metadata": {},
   "outputs": [
    {
     "data": {
      "text/plain": [
       "LogisticRegression(random_state=1)"
      ]
     },
     "execution_count": 52,
     "metadata": {},
     "output_type": "execute_result"
    }
   ],
   "source": [
    "log_reg_over = LogisticRegression(random_state = 1)\n",
    "\n",
    "# Training the basic logistic regression model with training set \n",
    "log_reg_over.fit(X_train_over,y_train_over)"
   ]
  },
  {
   "cell_type": "markdown",
   "metadata": {},
   "source": [
    "**Let's evaluate the model performance by using KFold and cross_val_score**\n",
    "\n",
    "- `K-Folds cross-validator` provides dataset indices to split data into train/validation sets. Split dataset into k consecutive stratified folds (without shuffling by default). Each fold is then used once as validation while the k - 1 remaining folds form the training set."
   ]
  },
  {
   "cell_type": "code",
   "execution_count": 53,
   "metadata": {
    "scrolled": true
   },
   "outputs": [
    {
     "data": {
      "image/png": "[encoded data removed]",
      "text/plain": [
       "<Figure size 432x288 with 1 Axes>"
      ]
     },
     "metadata": {},
     "output_type": "display_data"
    }
   ],
   "source": [
    "scoring='recall'\n",
    "kfold=StratifiedKFold(n_splits=5,shuffle=True,random_state=1)     #Setting number of splits equal to 5\n",
    "cv_result_over=cross_val_score(estimator=log_reg_over, X=X_train_over, y=y_train_over, scoring=scoring, cv=kfold)\n",
    "#Plotting boxplots for CV scores of model defined above\n",
    "plt.boxplot(cv_result_over)\n",
    "plt.show()"
   ]
  },
  {
   "cell_type": "markdown",
   "metadata": {},
   "source": [
    "* Performance on training set varies between 0.69 to 0.72 recall.\n",
    "* Let's check the performance on test data."
   ]
  },
  {
   "cell_type": "code",
   "execution_count": 54,
   "metadata": {},
   "outputs": [
    {
     "name": "stdout",
     "output_type": "stream",
     "text": [
      "Accuracy on training set :  0.7721132494448557\n",
      "Accuracy on test set :  0.7523809523809524\n",
      "Recall on training set :  0.7004071058475203\n",
      "Recall on test set :  0.7095381959430298\n",
      "Precision on training set :  0.8176712032836466\n",
      "Precision on test set :  0.8988518316019682\n"
     ]
    },
    {
     "data": {
      "image/png": "[encoded data removed]",
      "text/plain": [
       "<Figure size 720x504 with 2 Axes>"
      ]
     },
     "metadata": {},
     "output_type": "display_data"
    }
   ],
   "source": [
    "#Calculating different metrics\n",
    "get_metrics_score(log_reg_over,X_train_over,X_test,y_train_over,y_test)\n",
    "\n",
    "# creating confusion matrix\n",
    "make_confusion_matrix(log_reg_over,y_test)"
   ]
  },
  {
   "cell_type": "markdown",
   "metadata": {},
   "source": [
    "* Logistic Regression has given a generalized performance on training and test set.\n",
    "* Recall is very also good, but it has decreased from the initial logistic model.\n",
    "* Let's see if regualarization/tuning can make the model performance better."
   ]
  },
  {
   "cell_type": "markdown",
   "metadata": {},
   "source": [
    "### Regularization"
   ]
  },
  {
   "cell_type": "code",
   "execution_count": 55,
   "metadata": {},
   "outputs": [
    {
     "data": {
      "text/plain": [
       "LogisticRegression(C=0.1, random_state=1, solver='saga')"
      ]
     },
     "execution_count": 55,
     "metadata": {},
     "output_type": "execute_result"
    }
   ],
   "source": [
    "# Choose the type of classifier. \n",
    "lr_estimator = LogisticRegression(random_state=1,solver='saga')\n",
    "\n",
    "# Grid of parameters to choose from\n",
    "parameters = {'C': np.arange(0.1,1.1,0.1)}\n",
    "\n",
    "# Run the grid search\n",
    "grid_obj = GridSearchCV(lr_estimator, parameters, scoring='recall')\n",
    "grid_obj = grid_obj.fit(X_train_over, y_train_over)\n",
    "\n",
    "# Set the clf to the best combination of parameters\n",
    "lr_estimator = grid_obj.best_estimator_\n",
    "\n",
    "# Fit the best algorithm to the data. \n",
    "lr_estimator.fit(X_train_over, y_train_over)"
   ]
  },
  {
   "cell_type": "code",
   "execution_count": 56,
   "metadata": {},
   "outputs": [
    {
     "name": "stdout",
     "output_type": "stream",
     "text": [
      "Accuracy on training set :  0.7244633604737232\n",
      "Accuracy on test set :  0.7292929292929293\n",
      "Recall on training set :  0.7004071058475203\n",
      "Recall on test set :  0.7095381959430298\n",
      "Precision on training set :  0.7358087091757387\n",
      "Precision on test set :  0.8611838658983761\n"
     ]
    },
    {
     "data": {
      "image/png": "[encoded data removed]",
      "text/plain": [
       "<Figure size 720x504 with 2 Axes>"
      ]
     },
     "metadata": {},
     "output_type": "display_data"
    }
   ],
   "source": [
    "#Calculating different metrics\n",
    "get_metrics_score(lr_estimator,X_train_over,X_test,y_train_over,y_test)\n",
    "\n",
    "# creating confusion matrix\n",
    "make_confusion_matrix(lr_estimator,y_test)"
   ]
  },
  {
   "cell_type": "markdown",
   "metadata": {},
   "source": [
    "* Model performance hasn't improved much after regularization."
   ]
  },
  {
   "cell_type": "markdown",
   "metadata": {},
   "source": [
    "### Undersampling train data using SMOTE"
   ]
  },
  {
   "cell_type": "code",
   "execution_count": 57,
   "metadata": {},
   "outputs": [],
   "source": [
    "from imblearn.under_sampling import RandomUnderSampler\n",
    "rus = RandomUnderSampler(random_state = 1)\n",
    "X_train_un, y_train_un = rus.fit_resample(X_train, y_train)"
   ]
  },
  {
   "cell_type": "code",
   "execution_count": 58,
   "metadata": {},
   "outputs": [
    {
     "name": "stdout",
     "output_type": "stream",
     "text": [
      "Before Under Sampling, counts of label 'Yes': 5404\n",
      "Before Under Sampling, counts of label 'No': 2679 \n",
      "\n",
      "After Under Sampling, counts of label 'Yes': 2679\n",
      "After Under Sampling, counts of label 'No': 2679 \n",
      "\n",
      "After Under Sampling, the shape of train_X: (5358, 11)\n",
      "After Under Sampling, the shape of train_y: (5358,) \n",
      "\n"
     ]
    }
   ],
   "source": [
    "print(\"Before Under Sampling, counts of label 'Yes': {}\".format(sum(y_train==1)))\n",
    "print(\"Before Under Sampling, counts of label 'No': {} \\n\".format(sum(y_train==0)))\n",
    "\n",
    "print(\"After Under Sampling, counts of label 'Yes': {}\".format(sum(y_train_un==1)))\n",
    "print(\"After Under Sampling, counts of label 'No': {} \\n\".format(sum(y_train_un==0)))\n",
    "\n",
    "print('After Under Sampling, the shape of train_X: {}'.format(X_train_un.shape))\n",
    "print('After Under Sampling, the shape of train_y: {} \\n'.format(y_train_un.shape))"
   ]
  },
  {
   "cell_type": "markdown",
   "metadata": {},
   "source": [
    "### Logistic Regression on undersampled data"
   ]
  },
  {
   "cell_type": "code",
   "execution_count": 59,
   "metadata": {},
   "outputs": [
    {
     "data": {
      "text/plain": [
       "LogisticRegression(random_state=1)"
      ]
     },
     "execution_count": 59,
     "metadata": {},
     "output_type": "execute_result"
    }
   ],
   "source": [
    "log_reg_under = LogisticRegression(random_state = 1)\n",
    "log_reg_under.fit(X_train_un,y_train_un )"
   ]
  },
  {
   "cell_type": "markdown",
   "metadata": {},
   "source": [
    "**Let's evaluate the model performance by using KFold and cross_val_score**\n",
    "\n",
    "- `K-Folds cross-validator` provides dataset indices to split data into train/validation sets. Split dataset into k consecutive stratified folds (without shuffling by default). Each fold is then used once as validation while the k - 1 remaining folds form the training set."
   ]
  },
  {
   "cell_type": "code",
   "execution_count": 60,
   "metadata": {},
   "outputs": [
    {
     "data": {
      "image/png": "[encoded data removed]",
      "text/plain": [
       "<Figure size 432x288 with 1 Axes>"
      ]
     },
     "metadata": {},
     "output_type": "display_data"
    }
   ],
   "source": [
    "scoring='recall'\n",
    "kfold=StratifiedKFold(n_splits=5,shuffle=True,random_state=1)     #Setting number of splits equal to 5\n",
    "cv_result_under=cross_val_score(estimator=log_reg_under, X=X_train_un, y=y_train_un, scoring=scoring, cv=kfold)\n",
    "#Plotting boxplots for CV scores of model defined above\n",
    "plt.boxplot(cv_result_under)\n",
    "plt.show()"
   ]
  },
  {
   "cell_type": "markdown",
   "metadata": {},
   "source": [
    "* Performance of model on training set varies between 0.69 to 0.75.\n",
    "* Let's check the performance on the test set."
   ]
  },
  {
   "cell_type": "code",
   "execution_count": 61,
   "metadata": {},
   "outputs": [
    {
     "name": "stdout",
     "output_type": "stream",
     "text": [
      "Accuracy on training set :  0.7797685703620754\n",
      "Accuracy on test set :  0.7598845598845598\n",
      "Recall on training set :  0.7222844344904815\n",
      "Recall on test set :  0.7237807509710833\n",
      "Precision on training set :  0.8161113454238718\n",
      "Precision on test set :  0.8972712680577849\n"
     ]
    },
    {
     "data": {
      "image/png": "[encoded data removed]",
      "text/plain": [
       "<Figure size 720x504 with 2 Axes>"
      ]
     },
     "metadata": {},
     "output_type": "display_data"
    }
   ],
   "source": [
    "#Calculating different metrics\n",
    "get_metrics_score(log_reg_under,X_train_un,X_test,y_train_un,y_test)\n",
    "\n",
    "\n",
    "# creating confusion matrix\n",
    "make_confusion_matrix(log_reg_under,y_test)"
   ]
  },
  {
   "cell_type": "markdown",
   "metadata": {},
   "source": [
    "* Model has given a generalized performance on training and test set.\n",
    "* Model performance has not improved much-using downsampling."
   ]
  },
  {
   "cell_type": "code",
   "execution_count": 62,
   "metadata": {},
   "outputs": [],
   "source": [
    "# defining list of model\n",
    "models = [lr]\n",
    "\n",
    "# defining empty lists to add train and test results\n",
    "acc_train = []\n",
    "acc_test = []\n",
    "recall_train = []\n",
    "recall_test = []\n",
    "precision_train = []\n",
    "precision_test = []\n",
    "\n",
    "# looping through all the models to get the metrics score - Accuracy, Recall and Precision\n",
    "for model in models:\n",
    "    \n",
    "    j = get_metrics_score(model,X_train,X_test,y_train,y_test,False)\n",
    "    acc_train.append(j[0])\n",
    "    acc_test.append(j[1])\n",
    "    recall_train.append(j[2])\n",
    "    recall_test.append(j[3])\n",
    "    precision_train.append(j[4])\n",
    "    precision_test.append(j[5])"
   ]
  },
  {
   "cell_type": "code",
   "execution_count": 63,
   "metadata": {},
   "outputs": [],
   "source": [
    "# defining list of models\n",
    "models = [log_reg_over, lr_estimator]\n",
    "\n",
    "# looping through all the models to get the metrics score - Accuracy, Recall and Precision\n",
    "for model in models:\n",
    "    \n",
    "    j = get_metrics_score(model,X_train_over,X_test,y_train_over,y_test,False)\n",
    "    acc_train.append(j[0])\n",
    "    acc_test.append(j[1])\n",
    "    recall_train.append(j[2])\n",
    "    recall_test.append(j[3])\n",
    "    precision_train.append(j[4])\n",
    "    precision_test.append(j[5])"
   ]
  },
  {
   "cell_type": "code",
   "execution_count": 64,
   "metadata": {},
   "outputs": [],
   "source": [
    "# defining list of model\n",
    "models = [log_reg_under]\n",
    "\n",
    "# looping through all the models to get the metrics score - Accuracy, Recall and Precision\n",
    "for model in models:\n",
    "    \n",
    "    j = get_metrics_score(model,X_train_un,X_test,y_train_un,y_test,False)\n",
    "    acc_train.append(j[0])\n",
    "    acc_test.append(j[1])\n",
    "    recall_train.append(j[2])\n",
    "    recall_test.append(j[3])\n",
    "    precision_train.append(j[4])\n",
    "    precision_test.append(j[5])"
   ]
  },
  {
   "cell_type": "code",
   "execution_count": 65,
   "metadata": {},
   "outputs": [
    {
     "data": {
      "text/html": [
       "<div>\n",
       "<style scoped>\n",
       "    .dataframe tbody tr th:only-of-type {\n",
       "        vertical-align: middle;\n",
       "    }\n",
       "\n",
       "    .dataframe tbody tr th {\n",
       "        vertical-align: top;\n",
       "    }\n",
       "\n",
       "    .dataframe thead th {\n",
       "        text-align: right;\n",
       "    }\n",
       "</style>\n",
       "<table border=\"1\" class=\"dataframe\">\n",
       "  <thead>\n",
       "    <tr style=\"text-align: right;\">\n",
       "      <th></th>\n",
       "      <th>Model</th>\n",
       "      <th>Train_Accuracy</th>\n",
       "      <th>Test_Accuracy</th>\n",
       "      <th>Train_Recall</th>\n",
       "      <th>Test_Recall</th>\n",
       "      <th>Train_Precision</th>\n",
       "      <th>Test_Precision</th>\n",
       "    </tr>\n",
       "  </thead>\n",
       "  <tbody>\n",
       "    <tr>\n",
       "      <th>0</th>\n",
       "      <td>Logistic Regression</td>\n",
       "      <td>0.783496</td>\n",
       "      <td>0.794805</td>\n",
       "      <td>0.877498</td>\n",
       "      <td>0.881312</td>\n",
       "      <td>0.813379</td>\n",
       "      <td>0.824052</td>\n",
       "    </tr>\n",
       "    <tr>\n",
       "      <th>1</th>\n",
       "      <td>Logistic Regression on Oversampled data</td>\n",
       "      <td>0.772113</td>\n",
       "      <td>0.752381</td>\n",
       "      <td>0.700407</td>\n",
       "      <td>0.709538</td>\n",
       "      <td>0.817671</td>\n",
       "      <td>0.898852</td>\n",
       "    </tr>\n",
       "    <tr>\n",
       "      <th>2</th>\n",
       "      <td>Logistic Regression-Regularized (Oversampled d...</td>\n",
       "      <td>0.724463</td>\n",
       "      <td>0.729293</td>\n",
       "      <td>0.700407</td>\n",
       "      <td>0.709538</td>\n",
       "      <td>0.735809</td>\n",
       "      <td>0.861184</td>\n",
       "    </tr>\n",
       "    <tr>\n",
       "      <th>3</th>\n",
       "      <td>Logistic Regression on Undersampled data</td>\n",
       "      <td>0.779769</td>\n",
       "      <td>0.759885</td>\n",
       "      <td>0.722284</td>\n",
       "      <td>0.723781</td>\n",
       "      <td>0.816111</td>\n",
       "      <td>0.897271</td>\n",
       "    </tr>\n",
       "  </tbody>\n",
       "</table>\n",
       "</div>"
      ],
      "text/plain": [
       "                                               Model  Train_Accuracy  \\\n",
       "0                                Logistic Regression        0.783496   \n",
       "1            Logistic Regression on Oversampled data        0.772113   \n",
       "2  Logistic Regression-Regularized (Oversampled d...        0.724463   \n",
       "3           Logistic Regression on Undersampled data        0.779769   \n",
       "\n",
       "   Test_Accuracy  Train_Recall  Test_Recall  Train_Precision  Test_Precision  \n",
       "0       0.794805      0.877498     0.881312         0.813379        0.824052  \n",
       "1       0.752381      0.700407     0.709538         0.817671        0.898852  \n",
       "2       0.729293      0.700407     0.709538         0.735809        0.861184  \n",
       "3       0.759885      0.722284     0.723781         0.816111        0.897271  "
      ]
     },
     "execution_count": 65,
     "metadata": {},
     "output_type": "execute_result"
    }
   ],
   "source": [
    "comparison_frame = pd.DataFrame({'Model':['Logistic Regression','Logistic Regression on Oversampled data',\n",
    "                                          'Logistic Regression-Regularized (Oversampled data)','Logistic Regression on Undersampled data'], \n",
    "                                          'Train_Accuracy': acc_train,'Test_Accuracy': acc_test,\n",
    "                                          'Train_Recall':recall_train,'Test_Recall':recall_test,\n",
    "                                          'Train_Precision':precision_train,'Test_Precision':precision_test}) \n",
    "\n",
    "#Sorting models in decreasing order of test recall\n",
    "comparison_frame"
   ]
  },
  {
   "cell_type": "markdown",
   "metadata": {},
   "source": [
    "* Initial logistic regression with sampling and regularization has given a generalized performance on training and test set."
   ]
  },
  {
   "cell_type": "markdown",
   "metadata": {},
   "source": [
    "### Finding the coefficients"
   ]
  },
  {
   "cell_type": "code",
   "execution_count": 66,
   "metadata": {
    "scrolled": true
   },
   "outputs": [
    {
     "data": {
      "text/html": [
       "<div>\n",
       "<style scoped>\n",
       "    .dataframe tbody tr th:only-of-type {\n",
       "        vertical-align: middle;\n",
       "    }\n",
       "\n",
       "    .dataframe tbody tr th {\n",
       "        vertical-align: top;\n",
       "    }\n",
       "\n",
       "    .dataframe thead th {\n",
       "        text-align: right;\n",
       "    }\n",
       "</style>\n",
       "<table border=\"1\" class=\"dataframe\">\n",
       "  <thead>\n",
       "    <tr style=\"text-align: right;\">\n",
       "      <th></th>\n",
       "      <th>coef</th>\n",
       "    </tr>\n",
       "  </thead>\n",
       "  <tbody>\n",
       "    <tr>\n",
       "      <th>term_60 months</th>\n",
       "      <td>-2.119256</td>\n",
       "    </tr>\n",
       "    <tr>\n",
       "      <th>gender_Male</th>\n",
       "      <td>0.779883</td>\n",
       "    </tr>\n",
       "    <tr>\n",
       "      <th>purpose_House</th>\n",
       "      <td>0.044907</td>\n",
       "    </tr>\n",
       "    <tr>\n",
       "      <th>purpose_Medical</th>\n",
       "      <td>0.349555</td>\n",
       "    </tr>\n",
       "    <tr>\n",
       "      <th>purpose_Other</th>\n",
       "      <td>-0.012553</td>\n",
       "    </tr>\n",
       "    <tr>\n",
       "      <th>purpose_Personal</th>\n",
       "      <td>0.093063</td>\n",
       "    </tr>\n",
       "    <tr>\n",
       "      <th>purpose_Wedding</th>\n",
       "      <td>0.099329</td>\n",
       "    </tr>\n",
       "    <tr>\n",
       "      <th>home_ownership_Own</th>\n",
       "      <td>0.158061</td>\n",
       "    </tr>\n",
       "    <tr>\n",
       "      <th>home_ownership_Rent</th>\n",
       "      <td>-0.109600</td>\n",
       "    </tr>\n",
       "    <tr>\n",
       "      <th>age_&gt;25</th>\n",
       "      <td>0.588960</td>\n",
       "    </tr>\n",
       "    <tr>\n",
       "      <th>FICO_&gt;500</th>\n",
       "      <td>-2.038178</td>\n",
       "    </tr>\n",
       "  </tbody>\n",
       "</table>\n",
       "</div>"
      ],
      "text/plain": [
       "                         coef\n",
       "term_60 months      -2.119256\n",
       "gender_Male          0.779883\n",
       "purpose_House        0.044907\n",
       "purpose_Medical      0.349555\n",
       "purpose_Other       -0.012553\n",
       "purpose_Personal     0.093063\n",
       "purpose_Wedding      0.099329\n",
       "home_ownership_Own   0.158061\n",
       "home_ownership_Rent -0.109600\n",
       "age_>25              0.588960\n",
       "FICO_>500           -2.038178"
      ]
     },
     "execution_count": 66,
     "metadata": {},
     "output_type": "execute_result"
    }
   ],
   "source": [
    "log_odds = lr.coef_[0]\n",
    "pd.DataFrame(log_odds, X_train_un.columns, columns=['coef'])"
   ]
  },
  {
   "cell_type": "markdown",
   "metadata": {},
   "source": [
    "###  Converting coefficients to odds"
   ]
  },
  {
   "cell_type": "code",
   "execution_count": 67,
   "metadata": {
    "scrolled": false
   },
   "outputs": [
    {
     "data": {
      "text/html": [
       "<div>\n",
       "<style scoped>\n",
       "    .dataframe tbody tr th:only-of-type {\n",
       "        vertical-align: middle;\n",
       "    }\n",
       "\n",
       "    .dataframe tbody tr th {\n",
       "        vertical-align: top;\n",
       "    }\n",
       "\n",
       "    .dataframe thead th {\n",
       "        text-align: right;\n",
       "    }\n",
       "</style>\n",
       "<table border=\"1\" class=\"dataframe\">\n",
       "  <thead>\n",
       "    <tr style=\"text-align: right;\">\n",
       "      <th></th>\n",
       "      <th>Change in odds</th>\n",
       "    </tr>\n",
       "  </thead>\n",
       "  <tbody>\n",
       "    <tr>\n",
       "      <th>term_60 months</th>\n",
       "      <td>7.324945</td>\n",
       "    </tr>\n",
       "    <tr>\n",
       "      <th>gender_Male</th>\n",
       "      <td>1.181217</td>\n",
       "    </tr>\n",
       "    <tr>\n",
       "      <th>purpose_House</th>\n",
       "      <td>0.045931</td>\n",
       "    </tr>\n",
       "    <tr>\n",
       "      <th>purpose_Medical</th>\n",
       "      <td>0.418437</td>\n",
       "    </tr>\n",
       "    <tr>\n",
       "      <th>purpose_Other</th>\n",
       "      <td>0.012632</td>\n",
       "    </tr>\n",
       "    <tr>\n",
       "      <th>purpose_Personal</th>\n",
       "      <td>0.097531</td>\n",
       "    </tr>\n",
       "    <tr>\n",
       "      <th>purpose_Wedding</th>\n",
       "      <td>0.104429</td>\n",
       "    </tr>\n",
       "    <tr>\n",
       "      <th>home_ownership_Own</th>\n",
       "      <td>0.171238</td>\n",
       "    </tr>\n",
       "    <tr>\n",
       "      <th>home_ownership_Rent</th>\n",
       "      <td>0.115832</td>\n",
       "    </tr>\n",
       "    <tr>\n",
       "      <th>age_&gt;25</th>\n",
       "      <td>0.802114</td>\n",
       "    </tr>\n",
       "    <tr>\n",
       "      <th>FICO_&gt;500</th>\n",
       "      <td>6.676607</td>\n",
       "    </tr>\n",
       "  </tbody>\n",
       "</table>\n",
       "</div>"
      ],
      "text/plain": [
       "                     Change in odds\n",
       "term_60 months             7.324945\n",
       "gender_Male                1.181217\n",
       "purpose_House              0.045931\n",
       "purpose_Medical            0.418437\n",
       "purpose_Other              0.012632\n",
       "purpose_Personal           0.097531\n",
       "purpose_Wedding            0.104429\n",
       "home_ownership_Own         0.171238\n",
       "home_ownership_Rent        0.115832\n",
       "age_>25                    0.802114\n",
       "FICO_>500                  6.676607"
      ]
     },
     "execution_count": 67,
     "metadata": {},
     "output_type": "execute_result"
    }
   ],
   "source": [
    "odds = np.exp(np.abs(lr.coef_[0]))-1\n",
    "pd.set_option('display.max_rows',None)\n",
    "pd.DataFrame(odds, X_train_un.columns, columns=['Change in odds'])"
   ]
  },
  {
   "cell_type": "markdown",
   "metadata": {},
   "source": [
    "### Conclusion"
   ]
  },
  {
   "cell_type": "markdown",
   "metadata": {},
   "source": [
    "* term: The change in odds of a customer who takes a loan for 60 months being a delinquent customer is 73.2% lower than a person who takes a loan for 36 months.\n",
    "\n",
    "* gender: The change in odds of a male customer being a delinquent customer is 118% higher than a female customer.\n",
    "\n",
    "* purpose: \n",
    "  * The odds of a customer who is seeking a loan for a house being a delinquent customer is 4.5% higher than a customer who is seeking a loan for a car. (keeping purpose_car as reference).\n",
    "\n",
    "  * The odds of a customer who is seeking a loan for medical reasons being a delinquent customer is 41% higher than a customer who is seeking a loan for a car. (keeping purpose_car as reference).\n",
    "  \n",
    "  * The odds of a customer who is seeking a loan for other reasons being a delinquent customer is 1.2% lower than a customer who is seeking a loan for a car. (keeping purpose_car as reference).\n",
    "  \n",
    "`Interpretation for other attributes can be made similarly.`\n",
    "\n",
    "* age: The odds of a customer above 25 years being a delinquent customer is 80% higher than the customers in the age group 20-25.\n",
    "\n",
    "* FICO: The odds of a customer with a FICO score above 500 being a delinquent customer is 86% lower than a customer with a FICO score between 300 to 500."
   ]
  },
  {
   "cell_type": "markdown",
   "metadata": {},
   "source": [
    "## Business Insights\n",
    "\n",
    "* FICO, term and gender are the  important variables in determining if a borrower will get into a delinquent stage \n",
    "* No borrower shall be given a loan if they are applying for a 36 month term loan and have a FICO score in the range 300-500.\n",
    "* Female borrowers with a FICO score greater than 500 should be our target customers.\n",
    "* Criteria to approve loan according to decision tree model should depend on three main factors - FICO score, duration of loan and gender that is - If the FICO score is less than 500 and the duration of loan is less than 60 months then the customer will not be able to repay the loans. If the customer has greater than 500 FICO score and is a female higher chances that they will repay the loans."
   ]
  }
 ],
 "metadata": {
  "kernelspec": {
   "display_name": "Python 3",
   "language": "python",
   "name": "python3"
  },
  "language_info": {
   "codemirror_mode": {
    "name": "ipython",
    "version": 3
   },
   "file_extension": ".py",
   "mimetype": "text/x-python",
   "name": "python",
   "nbconvert_exporter": "python",
   "pygments_lexer": "ipython3",
   "version": "3.8.3"
  }
 },
 "nbformat": 4,
 "nbformat_minor": 4
}
